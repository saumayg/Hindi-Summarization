{
 "cells": [
  {
   "cell_type": "code",
   "execution_count": null,
   "id": "5ce28001-5a15-4ed2-af60-d67e70bd8fbf",
   "metadata": {},
   "outputs": [],
   "source": [
    "import re\n",
    "import pandas as pd\n",
    "from indicnlp.tokenize import sentence_tokenize"
   ]
  },
  {
   "cell_type": "code",
   "execution_count": null,
   "id": "5fe23c5f-3882-4302-b445-e2cfc746d246",
   "metadata": {},
   "outputs": [],
   "source": [
    "df = pd.read_json(\"../Datasets/Hindi_summarization/XLSum/hindi_train.jsonl\", lines = True)"
   ]
  },
  {
   "cell_type": "code",
   "execution_count": null,
   "id": "b74e3d87-0563-4904-8b55-45df801bbdf6",
   "metadata": {},
   "outputs": [],
   "source": [
    "text = df['text'][0]\n",
    "# text = \"1. वेनेज़ुएला: 1 रुपए 36 पैसे 2. सऊदी अरब: 15 रुपए 59 पैसे 3. ईरान: 21 रुपए 68 पैसे 4. अमरीकाः 39 रुपए 40 पैसे समाप्त 5. पाकिस्तान: 49 रुपए 47 पैसे 6. भारतः 59 रुपए 99 पैसे (दिल्ली) 65 रुपए 59 पैसे (लखनऊ) 7. नेपाल: 58 रुपए 95 पैसे 8. श्रीलंका: 60 रुपए 31 पैसे 9. चीनः 60 रुपए 99 पैसे 10. बांग्लादेश: 80 रुपए 64 पैसे 11. ब्रिटेनः 98 रुपए 26 पैसे 12. हांगकांग: 121 रुपए 97 पैसे (एक डॉलर: 67.76 रुपए) (सौजन्य: www.globalpetrolprice.com) (बीबीसी हिंदी के एंड्रॉएड ऐप के लिए आप यहां क्लिक कर सकते हैं. आप हमें फ़ेसबुक और ट्विटर पर फ़ॉलो भी कर सकते हैं.)\""
   ]
  },
  {
   "cell_type": "code",
   "execution_count": null,
   "id": "6170a8d9-d4ce-40e8-a5d0-a878515e6183",
   "metadata": {},
   "outputs": [],
   "source": [
    "text = text.lower()\n",
    "with open('stopwords-hi.txt', 'r', encoding='utf-8') as file:\n",
    "    stop_words = set(file.read().split())"
   ]
  },
  {
   "cell_type": "code",
   "execution_count": null,
   "id": "71f7035f-8d9a-4187-87a9-c2f0d1d8f710",
   "metadata": {},
   "outputs": [],
   "source": [
    "text"
   ]
  },
  {
   "cell_type": "code",
   "execution_count": null,
   "id": "70be3227-1118-4e93-83f0-8cefbce8140e",
   "metadata": {},
   "outputs": [],
   "source": [
    "# text = re.sub(r'(?<!\\d)[,;:()\"\\'`](?!\\d)', '', text)\n",
    "text = re.sub(r'(?<=[\\u0900-\\u097F])([.।!?])|\\P{L}+', '', text)"
   ]
  },
  {
   "cell_type": "code",
   "execution_count": null,
   "id": "27a7cc23-5273-48b5-a173-08018ea603da",
   "metadata": {},
   "outputs": [],
   "source": [
    "text"
   ]
  },
  {
   "cell_type": "code",
   "execution_count": null,
   "id": "2d737ca2-3e23-4328-9684-498dd525463e",
   "metadata": {},
   "outputs": [],
   "source": [
    "clean_text = text"
   ]
  },
  {
   "cell_type": "code",
   "execution_count": null,
   "id": "5a0dc8fb-58d9-4cb8-8661-88abc608fea5",
   "metadata": {},
   "outputs": [],
   "source": [
    "# words = re.split(r'(\\s+|\\u0964|\\.|\\?|\\!)', text)\n",
    "words = re.findall(c, text)\n",
    "# r'(?<!\\d)[.!?।]\n",
    "# words = re.split(r'(?<=[.।?!])\\s', text)"
   ]
  },
  {
   "cell_type": "code",
   "execution_count": null,
   "id": "569d72b0-d563-49e4-a836-9a6ad43f43d0",
   "metadata": {},
   "outputs": [],
   "source": [
    "words"
   ]
  },
  {
   "cell_type": "code",
   "execution_count": null,
   "id": "bcf8fae7-c5b5-4567-9331-12ac8665c087",
   "metadata": {},
   "outputs": [],
   "source": [
    "words = [word for word in words if word not in stop_words and word.strip() != '']"
   ]
  },
  {
   "cell_type": "code",
   "execution_count": null,
   "id": "96bd98ec-20e8-417e-818c-4e5c4d3757e6",
   "metadata": {},
   "outputs": [],
   "source": [
    "words"
   ]
  },
  {
   "cell_type": "code",
   "execution_count": null,
   "id": "aa236ddb-9173-4efb-bcf2-e21730ac0f40",
   "metadata": {},
   "outputs": [],
   "source": [
    "text = ' '.join(words)"
   ]
  },
  {
   "cell_type": "code",
   "execution_count": null,
   "id": "6a1f4341-de2e-4b8f-99e9-8782b72431bc",
   "metadata": {},
   "outputs": [],
   "source": [
    "text"
   ]
  },
  {
   "cell_type": "code",
   "execution_count": null,
   "id": "8d6b31d3-851f-4bff-84ca-7aea52dce5ce",
   "metadata": {},
   "outputs": [],
   "source": [
    "clean_text"
   ]
  },
  {
   "cell_type": "code",
   "execution_count": null,
   "id": "bdc0a45b-f5a6-4c07-8871-c9ba22e7ee23",
   "metadata": {},
   "outputs": [],
   "source": [
    "words"
   ]
  },
  {
   "cell_type": "code",
   "execution_count": null,
   "id": "d49dbabb-38f3-40eb-ad2c-74ac35fbf333",
   "metadata": {},
   "outputs": [],
   "source": [
    "sentences = sentence_tokenize.sentence_split(text, lang='hi')\n",
    "orig_sentences = sentence_tokenize.sentence_split(clean_text, lang='hi')"
   ]
  },
  {
   "cell_type": "code",
   "execution_count": null,
   "id": "91a27d8d-6762-4250-aeef-d26ebb354361",
   "metadata": {},
   "outputs": [],
   "source": [
    "sentences"
   ]
  },
  {
   "cell_type": "code",
   "execution_count": null,
   "id": "9846a210-a928-4170-8f53-a4ec50f5a040",
   "metadata": {},
   "outputs": [],
   "source": [
    "len(sentences)"
   ]
  },
  {
   "cell_type": "code",
   "execution_count": null,
   "id": "d9ac14bc-b952-4886-95de-03cdf79ae911",
   "metadata": {},
   "outputs": [],
   "source": [
    "orig_sentences"
   ]
  },
  {
   "cell_type": "code",
   "execution_count": null,
   "id": "f1450de0-c7f0-487a-82c9-8a836ca35d03",
   "metadata": {},
   "outputs": [],
   "source": [
    "len(orig_sentences)"
   ]
  },
  {
   "cell_type": "code",
   "execution_count": null,
   "id": "6cc59b82-cd70-4a27-8c67-50f6a2cfa9e2",
   "metadata": {},
   "outputs": [],
   "source": [
    "words_tmp = sentences[0].split()"
   ]
  },
  {
   "cell_type": "code",
   "execution_count": null,
   "id": "bd15d034-8d84-4327-8762-24f497b85f2d",
   "metadata": {},
   "outputs": [],
   "source": [
    "[word for word in words_tmp if word not in ['.', '\\u0964', '?', '!']]"
   ]
  },
  {
   "cell_type": "code",
   "execution_count": null,
   "id": "c88d7878-c4fd-4ead-b25f-cfbf968fbeac",
   "metadata": {},
   "outputs": [],
   "source": [
    "def sentence_embedding(sentence, model):\n",
    "    words = sentence.split()\n",
    "    embeddings = [model.get_word_vector(word) for word in words if word not in ['.', '\\u0964', '?', '!']]\n",
    "    if embeddings:\n",
    "        return np.mean(embeddings, axis = 0)\n",
    "    else:\n",
    "        return np.zeros(model.get_dimension())"
   ]
  },
  {
   "cell_type": "code",
   "execution_count": null,
   "id": "a30df9b1-eb02-427c-b146-848869f50f64",
   "metadata": {},
   "outputs": [],
   "source": [
    "import fasttext\n",
    "model_path = 'cc.hi.300.bin'\n",
    "fasttext_model = fasttext.load_model(model_path)"
   ]
  },
  {
   "cell_type": "code",
   "execution_count": null,
   "id": "6f01b0ec-b5a1-4f0a-878f-e6efa6f7959f",
   "metadata": {},
   "outputs": [],
   "source": [
    "import numpy as np\n",
    "sentence_vectors = [sentence_embedding(sentence, fasttext_model) for sentence in sentences]"
   ]
  },
  {
   "cell_type": "code",
   "execution_count": null,
   "id": "cad557b0-7639-452f-9ec7-64098d22054b",
   "metadata": {},
   "outputs": [],
   "source": [
    "len(sentence_vectors[0])"
   ]
  },
  {
   "cell_type": "code",
   "execution_count": null,
   "id": "8e460aed-cda4-40a3-a558-5222df35b707",
   "metadata": {},
   "outputs": [],
   "source": [
    "from sklearn.metrics.pairwise import cosine_similarity\n",
    "similarity_matrix = np.zeros((len(sentences), len(sentences)))\n",
    "for i in range(len(sentences)):\n",
    "    for j in range(len(sentences)):\n",
    "        if i != j:\n",
    "            similarity_matrix[i][j] = cosine_similarity(sentence_vectors[i].reshape(1,300), sentence_vectors[j].reshape(1,300))[0,0]"
   ]
  },
  {
   "cell_type": "code",
   "execution_count": null,
   "id": "7022d918-096f-4ec8-9cb4-4986ccb80703",
   "metadata": {},
   "outputs": [],
   "source": [
    "import networkx as nx\n",
    "nx_graph = nx.from_numpy_array(similarity_matrix)\n",
    "scores = nx.pagerank(nx_graph)"
   ]
  },
  {
   "cell_type": "code",
   "execution_count": null,
   "id": "c4a835dc-26e5-44ba-9b7e-cac71e6b510e",
   "metadata": {},
   "outputs": [],
   "source": [
    "len(orig_sentences)"
   ]
  },
  {
   "cell_type": "code",
   "execution_count": null,
   "id": "4b3f03c2-f250-466e-8214-d2945475e54c",
   "metadata": {},
   "outputs": [],
   "source": [
    "len(sentences)"
   ]
  },
  {
   "cell_type": "code",
   "execution_count": null,
   "id": "1d8f8e93-4be2-4e9b-8b29-4eaef4667268",
   "metadata": {},
   "outputs": [],
   "source": [
    "scores"
   ]
  },
  {
   "cell_type": "code",
   "execution_count": null,
   "id": "3cef5c89-452e-4882-8a1f-4b18f55c24cd",
   "metadata": {},
   "outputs": [],
   "source": [
    "ranked_sentences = sorted(((scores[i],s) for i,s in enumerate(orig_sentences)), reverse=True)"
   ]
  },
  {
   "cell_type": "code",
   "execution_count": null,
   "id": "3de719aa-f59e-445a-93cc-f8502351d434",
   "metadata": {},
   "outputs": [],
   "source": [
    "ranked_sentences"
   ]
  },
  {
   "cell_type": "code",
   "execution_count": null,
   "id": "5de40980-84d4-492f-bd43-336c023c90c4",
   "metadata": {},
   "outputs": [],
   "source": []
  }
 ],
 "metadata": {
  "kernelspec": {
   "display_name": "Python 3 (ipykernel)",
   "language": "python",
   "name": "python3"
  },
  "language_info": {
   "codemirror_mode": {
    "name": "ipython",
    "version": 3
   },
   "file_extension": ".py",
   "mimetype": "text/x-python",
   "name": "python",
   "nbconvert_exporter": "python",
   "pygments_lexer": "ipython3",
   "version": "3.9.13"
  }
 },
 "nbformat": 4,
 "nbformat_minor": 5
}
